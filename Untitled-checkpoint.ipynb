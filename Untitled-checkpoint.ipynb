{
 "cells": [
  {
   "cell_type": "code",
   "execution_count": 11,
   "id": "328bde53",
   "metadata": {},
   "outputs": [
    {
     "name": "stdout",
     "output_type": "stream",
     "text": [
      "PROGRAM KONVERSI SUHU\n",
      "masukkan bilangan : 30\n",
      "Hasilnya : \n",
      "30 celcius sama nilainya dengan 303 kelvin\n",
      "30 celcius sama nilainya dengan 86.0 fahrenheit\n",
      "30 celcius sama nilainya dengan 24.0 reamur\n"
     ]
    }
   ],
   "source": [
    "print(\"PROGRAM KONVERSI SUHU\")\n",
    "\n",
    "a = int(input(\"masukkan bilangan : \"))\n",
    "k = a+273 \n",
    "f = (1.8*a)+32\n",
    "r = 0.8*a \n",
    "\n",
    "print(\"Hasilnya : \")\n",
    "print (a,\"celcius sama nilainya dengan\",k,\"kelvin\")\n",
    "print (a,\"celcius sama nilainya dengan\",f,\"fahrenheit\")\n",
    "print (a,\"celcius sama nilainya dengan\",r,\"reamur\")"
   ]
  },
  {
   "cell_type": "code",
   "execution_count": null,
   "id": "5a852a78",
   "metadata": {},
   "outputs": [],
   "source": []
  }
 ],
 "metadata": {
  "kernelspec": {
   "display_name": "Python 3",
   "language": "python",
   "name": "python3"
  },
  "language_info": {
   "codemirror_mode": {
    "name": "ipython",
    "version": 3
   },
   "file_extension": ".py",
   "mimetype": "text/x-python",
   "name": "python",
   "nbconvert_exporter": "python",
   "pygments_lexer": "ipython3",
   "version": "3.8.8"
  }
 },
 "nbformat": 4,
 "nbformat_minor": 5
}
